!pip3 install python3 --version
!pip3 install streamlit
