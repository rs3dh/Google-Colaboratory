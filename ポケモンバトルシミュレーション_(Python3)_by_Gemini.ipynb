{
  "cells": [
    {
      "cell_type": "markdown",
      "metadata": {
        "id": "view-in-github",
        "colab_type": "text"
      },
      "source": [
        "<a href=\"https://colab.research.google.com/github/2ny6azz/yuunyan/blob/main/%E3%83%9D%E3%82%B1%E3%83%A2%E3%83%B3%E3%83%90%E3%83%88%E3%83%AB%E3%82%B7%E3%83%9F%E3%83%A5%E3%83%AC%E3%83%BC%E3%82%B7%E3%83%A7%E3%83%B3_(Python3)_by_Gemini.ipynb\" target=\"_parent\"><img src=\"https://colab.research.google.com/assets/colab-badge.svg\" alt=\"Open In Colab\"/></a>"
      ]
    },
    {
      "cell_type": "code",
      "source": [
        "import itertools\n",
        "\n",
        "def can_win(my_type, my_strength, opponent_type, opponent_strength):\n",
        "    \"\"\"\n",
        "    2匹のポケモンのバトル結果を判定する関数。\n",
        "\n",
        "    Args:\n",
        "        my_type (int): 自分のポケモンのタイプ (1, 2, 3)。\n",
        "        my_strength (int): 自分のポケモンの強さ。\n",
        "        opponent_type (int): 相手のポケモンのタイプ (1, 2, 3)。\n",
        "        opponent_strength (int): 相手のポケモンの強さ。\n",
        "\n",
        "    Returns:\n",
        "        int: 自分のポケモンが勝つ場合は 1, 負ける場合は -1, 引き分けの場合は 0。\n",
        "    \"\"\"\n",
        "    # タイプ相性による強さ補正\n",
        "    if my_type == (opponent_type % 3) + 1:\n",
        "        my_strength *= 2\n",
        "\n",
        "    if my_strength > opponent_strength:\n",
        "        return 1\n",
        "    elif my_strength < opponent_strength:\n",
        "        return -1\n",
        "    else:\n",
        "        return 0\n",
        "\n",
        "def can_win_all(my_order, opponent_types, opponent_strengths, my_types, my_strengths):\n",
        "    \"\"\"\n",
        "    特定の順番で自分のポケモンを出した場合に、すべてのバトルに勝利できるかどうかを判定する関数。\n",
        "\n",
        "    Args:\n",
        "        my_order (list[int]): 自分のポケモンの出す順番 (0からN-1までの順列)。\n",
        "        opponent_types (list[int]): 相手のポケモンのタイプのリスト。\n",
        "        opponent_strengths (list[int]): 相手のポケモンの強さのリスト。\n",
        "        my_types (list[int]): 自分のポケモンのタイプのリスト。\n",
        "        my_strengths (list[int]): 自分のポケモンの強さのリスト。\n",
        "\n",
        "    Returns:\n",
        "        bool: すべてのバトルに勝利できる場合は True, そうでない場合は False。\n",
        "    \"\"\"\n",
        "    for i, my_pokemon_index in enumerate(my_order):\n",
        "        if can_win(my_types[my_pokemon_index], my_strengths[my_pokemon_index], opponent_types[i], opponent_strengths[i]) <= 0:\n",
        "            return False\n",
        "    return True\n",
        "\n",
        "def solve_query(n, s, a, t, b):\n",
        "    \"\"\"\n",
        "    1つのクエリを解決する関数。\n",
        "\n",
        "    Args:\n",
        "        n (int): ポケモンの数。\n",
        "        s (list[int]): 自分のポケモンのタイプのリスト。\n",
        "        a (list[int]): 自分のポケモンの強さのリスト。\n",
        "        t (list[int]): 相手のポケモンのタイプのリスト。\n",
        "        b (list[int]): 相手のポケモンの強さのリスト。\n",
        "\n",
        "    Returns:\n",
        "        str: すべてのバトルに勝利できる場合は 'yes', そうでない場合は 'no'。\n",
        "    \"\"\"\n",
        "    # 自分のポケモンのすべての可能な出し順を試す\n",
        "    for my_order in itertools.permutations(range(n)):\n",
        "        if can_win_all(list(my_order), t, b, s, a):\n",
        "            return 'yes'\n",
        "    return 'no'\n",
        "\n",
        "def main():\n",
        "    \"\"\"\n",
        "    メインの関数。入力の読み込みとクエリの処理を行う。\n",
        "    \"\"\"\n",
        "    q = int(input())\n",
        "    for _ in range(q):\n",
        "        n = int(input())\n",
        "        s = list(map(int, input().split()))\n",
        "        a = list(map(int, input().split()))\n",
        "        t = list(map(int, input().split()))\n",
        "        b = list(map(int, input().split()))\n",
        "        result = solve_query(n, s, a, t, b)\n",
        "        print(result)\n",
        "\n",
        "if __name__ == \"__main__\":\n",
        "    main()"
      ],
      "outputs": [],
      "execution_count": null,
      "metadata": {
        "id": "7FZgotBxM2Lq"
      }
    }
  ],
  "metadata": {
    "colab": {
      "provenance": [],
      "include_colab_link": true
    },
    "kernelspec": {
      "display_name": "Python 3",
      "name": "python3"
    }
  },
  "nbformat": 4,
  "nbformat_minor": 0
}